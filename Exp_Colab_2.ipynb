{
  "nbformat": 4,
  "nbformat_minor": 0,
  "metadata": {
    "colab": {
      "name": "Exp - Colab 2.ipynb",
      "provenance": [],
      "toc_visible": true,
      "include_colab_link": true
    },
    "kernelspec": {
      "display_name": "Python 3 (ipykernel)",
      "language": "python",
      "name": "python3"
    },
    "language_info": {
      "codemirror_mode": {
        "name": "ipython",
        "version": 3
      },
      "file_extension": ".py",
      "mimetype": "text/x-python",
      "name": "python",
      "nbconvert_exporter": "python",
      "pygments_lexer": "ipython3",
      "version": "3.9.7"
    }
  },
  "cells": [
    {
      "cell_type": "markdown",
      "metadata": {
        "id": "view-in-github",
        "colab_type": "text"
      },
      "source": [
        "<a href=\"https://colab.research.google.com/github/ycc-br/Repo-1/blob/main/Exp_Colab_2.ipynb\" target=\"_parent\"><img src=\"https://colab.research.google.com/assets/colab-badge.svg\" alt=\"Open In Colab\"/></a>"
      ]
    },
    {
      "cell_type": "markdown",
      "metadata": {
        "id": "_yC9u9CQAuAh"
      },
      "source": [
        "<img src=\"files/image.pfng\",width=800, height=400>"
      ]
    },
    {
      "cell_type": "markdown",
      "metadata": {
        "id": "NfzdqyxBj4HY"
      },
      "source": [
        "# INTRODUÇÃO"
      ]
    },
    {
      "cell_type": "markdown",
      "metadata": {
        "id": "y5twI5RvkFK_"
      },
      "source": [
        "## EXPORTAÇÃO"
      ]
    },
    {
      "cell_type": "markdown",
      "metadata": {
        "id": "z2b4vHcT__2H"
      },
      "source": [
        "Exportação, basicamente, consiste no ato de vender para outro país, tanto mercadorias quanto serviços.<br>\n",
        "Para o Brasil é bom, pois contribui para criação e manutenção de emprego e renda, aumento da competitividade.<br>\n",
        "Já para a empresa exportadora também é positivo, pois diminui o risco do negócio devido a diversificação geográfica, incenvtivos fiscais, aumento do mercado potencial. \n"
      ]
    },
    {
      "cell_type": "markdown",
      "metadata": {
        "id": "TNMjf_LokNdL"
      },
      "source": [
        "## OBJETIVO"
      ]
    },
    {
      "cell_type": "markdown",
      "metadata": {
        "id": "QqfmzmNl__2N"
      },
      "source": [
        "Conhecer as exportações ao responder as seguintes questões:\n",
        "\n",
        "Exportações brasileiras | 2021\n",
        "\n",
        "1. Quem são os maiores compradores do Brasil em 2021? E o que eles mais compraram?\n",
        "2. Quais mercadorias o Brasil mais vendeu ao exterior em 2021? (as commodities dominam mesmo?) E para quem o Brasil vendeu?\n",
        "\n",
        "Exportações brasileiras | 2010 - 2021\n",
        "1. Evolução das exportações ao longo do período (em valores transacionados)\n",
        "2. Os maiores compradores do Brasil no período e o que eles compraram\n",
        "3. Quais mercadorias o Brasil mais exportou no período e para quem vendeu?\n"
      ]
    },
    {
      "cell_type": "code",
      "metadata": {
        "id": "yEon4iWvA_AU"
      },
      "source": [
        "!pip install plotly==5.4.0"
      ],
      "execution_count": null,
      "outputs": []
    },
    {
      "cell_type": "markdown",
      "metadata": {
        "id": "GvCEQVp6kXUw"
      },
      "source": [
        "# IMPORTAÇÃO DAS LIBS "
      ]
    },
    {
      "cell_type": "code",
      "metadata": {
        "id": "wi54f_UJ__2P"
      },
      "source": [
        "# Importando as libs necessárias\n",
        "import pandas as pd\n",
        "import numpy as np\n",
        "import plotly.express as px\n",
        "import matplotlib.pyplot as plt\n",
        "import seaborn as sns\n",
        "from google.colab import drive\n",
        "\n",
        "pd.options.display.float_format = '{:.2f}'.format"
      ],
      "execution_count": null,
      "outputs": []
    },
    {
      "cell_type": "code",
      "metadata": {
        "id": "3pHGtbl2llTB"
      },
      "source": [
        "# Estabelecendo a conexão com o Google Drive\n",
        "drive.mount('/content/drive')"
      ],
      "execution_count": null,
      "outputs": []
    },
    {
      "cell_type": "markdown",
      "metadata": {
        "id": "Zf3-WNnbk8vN"
      },
      "source": [
        "# OBTENÇÃO E TRATAMENTO DOS DADOS"
      ]
    },
    {
      "cell_type": "markdown",
      "metadata": {
        "id": "GRl2sK1clH3M"
      },
      "source": [
        "# Nova seção"
      ]
    },
    {
      "cell_type": "markdown",
      "metadata": {
        "id": "hxKtIpIf__2Q"
      },
      "source": [
        "O dataset utilizado foi obtido do seguinte site: https://www.gov.br/produtividade-e-comercio-exterior/pt-br/assuntos/comercio-exterior/estatisticas/base-de-dados-bruta"
      ]
    },
    {
      "cell_type": "code",
      "metadata": {
        "id": "0ZtGL2BVAv_7"
      },
      "source": [
        "# Lendo o dataset\n",
        "raw_data = pd.read_csv('EXP_COMPLETA.csv',sep=';')\n",
        "\n",
        "# Por default, as 5 primeiras linhas\n",
        "raw_data.head()"
      ],
      "execution_count": null,
      "outputs": []
    },
    {
      "cell_type": "code",
      "metadata": {
        "id": "t0Wv-zAZ__2U"
      },
      "source": [
        "# Renomeando as colunas\n",
        "raw_data.columns = ['ANO','MES','NCM','UNI_MED','PAIS','UF','MODAL','URF','UNI_STAT','KG_LIQ','VALOR_FOB']\n",
        "raw_data"
      ],
      "execution_count": null,
      "outputs": []
    },
    {
      "cell_type": "markdown",
      "metadata": {
        "id": "THIFeKeH__2V"
      },
      "source": [
        "**Dicionário das variáveis**"
      ]
    },
    {
      "cell_type": "markdown",
      "metadata": {
        "id": "AFpHIszS__2V"
      },
      "source": [
        "**ANO:** Ano (1997 a 2021)\n",
        "\n",
        "**MES:** Mês \n",
        "\n",
        "**NCM:** Nomenclatura Comum Mercosul - Utilizada para controle e identificação das mercadorias comercializadas no Brasil e nos outros países do Mercosul (cada NCM representa uma mercadoria diferente)\n",
        "\n",
        "**UNID:** Código da Unidade de Medida Estatística que é uma unidade de medida padrão para cada NCM, podendo ter valores como quilograma, metro, litro, pares, tonelada e outros.\n",
        "\n",
        "**PAIS:** Código do país com a qual foi realizada a operação (importação ou exportação)\n",
        "\n",
        "**UF:** Unidade Federativa (estado) de origem (exportação) ou destino (importação).\n",
        "\n",
        "**MODAL:** Código para identificação do meio de transporte utilizado (aéreo, marítimo, rodoviária, ferroviária e outros). Na *exportação*, é o método utilizado para o transporte de mercadorias entre o último local de embarque para o exterior. Na *importação*, configura-se através dos meios de acesso para os bens do primeiro ponto de entrada no território nacional.\n",
        "\n",
        "**URF (Unidade da Receita Federal):** Código da agência responsável pela execução dos procedimentos necessários para o desembaraço aduaneiro da mercadoria importada/exportada\n",
        "\n",
        "**UNI_STAT:** No detalhamento por NCM, cada produto tem sua unidade estatística. Grande parte dos produtos tem como unidade estatística o peso em quilogramas, mas existem outras: quilograma líquido, número (unidades), pares, dúzias, milheiro, tonelada. A tabela completa que relaciona cada NCM com sua unidade estatística pode ser encontrada em na tabela “NCM _ UNIDADE”. É importante ressaltar que não se deve somar quantidades estatísticas de NCMs que contenham unidades estatísticas diferentes. \n",
        "\n",
        "**KG_LIQ:** Medida que expressa o peso líquido da mercadoria. Mesmo produtos com quantidades estatísticas diferentes do quilograma também possuem disponível a medida em quilograma, referindo-se ao peso líquido da mercadoria, ou seja, mercadoria desconsiderando embalagens, caixas ou quaisquer outros adicionais de transporte. \n",
        "\n",
        "**VALOR_FOB:** O valor FOB indica o preço da mercadoria em dólares americanos (US$) sob o Incoterm FOB (Free on Board), modalidade na qual o vendedor é responsável por embarcar a mercadoria enquanto o comprador assume o pagamento do frete, seguros e demais custos pós embarque.\n",
        "\n",
        "*Vale relembrar que as informações contidas no dataset relativo às operações de comércio exterior, é de livre preenchimento e de responsabilidade exclusiva dos operadores de comércio exterior.*\n"
      ]
    },
    {
      "cell_type": "code",
      "metadata": {
        "id": "guM4uvw9__2W"
      },
      "source": [
        "# Obtendo os anos abrangidos pelo dataset\n",
        "raw_data.ANO.unique()"
      ],
      "execution_count": null,
      "outputs": []
    },
    {
      "cell_type": "markdown",
      "metadata": {
        "id": "-lbgUxAf__2X"
      },
      "source": [
        "**<font size=\"4\"> Selecionar os dados de interesse </font>**"
      ]
    },
    {
      "cell_type": "markdown",
      "metadata": {
        "id": "Rer0Z05M__2Y"
      },
      "source": [
        "O dataset abrange o período de 1997 a 2021. O escopo da presente análise será de 2010 a 2021."
      ]
    },
    {
      "cell_type": "code",
      "metadata": {
        "id": "TOGov-s8__2Y"
      },
      "source": [
        "# Criando um subset - de 2010 até 2021\n",
        "exp = raw_data[raw_data['ANO']>=2010].copy()\n",
        "exp.reset_index(inplace=True)\n",
        "exp.drop(['index'], axis=1, inplace=True)\n",
        "exp"
      ],
      "execution_count": null,
      "outputs": []
    },
    {
      "cell_type": "code",
      "metadata": {
        "id": "r3hsRwrX__2Z"
      },
      "source": [
        "# Selecionando as colunas de interesse para a análise\n",
        "columns = ['ANO', 'MES', 'NCM', 'PAIS', 'MODAL','VALOR_FOB']\n",
        "exp = exp.copy()\n",
        "exp = exp[columns]\n",
        "exp"
      ],
      "execution_count": null,
      "outputs": []
    },
    {
      "cell_type": "markdown",
      "metadata": {
        "id": "rn_MOxQV__2Z"
      },
      "source": [
        "**<font size=\"4\"> Substituição dos códigos das colunas *Modais* e *País* pela respectiva descrição -  </font>**"
      ]
    },
    {
      "cell_type": "markdown",
      "metadata": {
        "id": "C-phkUyj__2Z"
      },
      "source": [
        "<font size=\"4\"> Modais </font> "
      ]
    },
    {
      "cell_type": "code",
      "metadata": {
        "id": "Tqg-FirtkXOt"
      },
      "source": [
        "# Lendo o CSV contendo o código e a respectiva descrição\n",
        "cod_modais = pd.read_csv('CO_VIA.csv',sep=';')\n",
        "\n",
        "# Criando dicionário com os códigos e respectiva descrição\n",
        "modal_dict = {cod_modais.iloc[i,0]=cod_modais.iloc[i,1] for i in range(17)}\n",
        "\n",
        "# Substituindo o código pela respectiva descrição no dataframe\n",
        "exp['MODAL'] = exp['MODAL'].map(modal_dict)\n",
        "\n",
        "# Apresentando o dataframe\n",
        "exp"
      ],
      "execution_count": null,
      "outputs": []
    },
    {
      "cell_type": "markdown",
      "metadata": {
        "id": "l4KxwFzF__2a"
      },
      "source": [
        "<font size=\"4\"> Países </font> "
      ]
    },
    {
      "cell_type": "code",
      "metadata": {
        "id": "_eJsg5Z3zwIu"
      },
      "source": [
        "# Lendo o CSV contendo o código e a respectiva descrição\n",
        "cod_pais = pd.read_csv('CO_PAIS.csv',sep=';')\n",
        "\n",
        "# Criando dicionário com os códigos e respectiva descrição\n",
        "pais_dict = {cod_pais.iloc[i,0]=cod_pais.iloc[i,3] for i in range(281)}\n",
        "    \n",
        "# Substituindo o código pela respectiva descrição no dataframe\n",
        "exp['PAIS']=exp['PAIS'].map(pais_dict)\n",
        "\n",
        "# Apresentando o dataframe\n",
        "exp"
      ],
      "execution_count": null,
      "outputs": []
    },
    {
      "cell_type": "markdown",
      "metadata": {
        "id": "qgEmrOKz__2b"
      },
      "source": [
        "**<font size=\"4\"> Ajuste do tipo das variáveis para otimizar o uso de memória </font>**"
      ]
    },
    {
      "cell_type": "code",
      "metadata": {
        "id": "fAG-YLBU__2b"
      },
      "source": [
        "# Identificando o tipo de variável de cada coluna\n",
        "exp.info()"
      ],
      "execution_count": null,
      "outputs": []
    },
    {
      "cell_type": "code",
      "metadata": {
        "id": "N3fecp8T__2b"
      },
      "source": [
        "# Ajustando o tipo de variável\n",
        "exp['ANO'] = exp['ANO'].astype('int16')\n",
        "exp['MES']=exp['MES'].astype('int8')\n",
        "exp['NCM']=exp['NCM'].astype('int32')\n",
        "exp['VALOR_FOB']=exp['VALOR_FOB'].astype('uint32')"
      ],
      "execution_count": null,
      "outputs": []
    },
    {
      "cell_type": "code",
      "metadata": {
        "id": "NPUzQROs__2b"
      },
      "source": [
        "# Redução de 273 MB, deixando o dataframe mais leve!\n",
        "exp.info()"
      ],
      "execution_count": null,
      "outputs": []
    },
    {
      "cell_type": "markdown",
      "metadata": {
        "id": "yR37h4EL__2b"
      },
      "source": [
        "**<font size=\"4\"> Valores ausentes e inconsistentes </font>**"
      ]
    },
    {
      "cell_type": "code",
      "metadata": {
        "id": "ewN9t_h0__2c",
        "scrolled": true
      },
      "source": [
        "# Checando a existência de missing values\n",
        "# A contagem de todas as colunas estão idênticas, indicando que não há valores faltantes\n",
        "exp.describe(include='all')"
      ],
      "execution_count": null,
      "outputs": []
    },
    {
      "cell_type": "code",
      "metadata": {
        "id": "XpAJwqld__2c"
      },
      "source": [
        "# Qtde e porcentagem de registros (linhas) a serem excluídas (mercadorias sem valor comercial)\n",
        "print(f\"Linhas a serem excluídas: {exp[exp['VALOR_FOB']==0].shape[0]}\")\n",
        "print(f\"Equivalente a: {exp[exp['VALOR_FOB']==0].shape[0]/exp.shape[0]:.3f}%\")\n",
        "\n",
        "# Excluindo os registros de mercadorias sem valor comercial \n",
        "exp = exp.drop(exp[exp['VALOR_FOB']==0].index, axis=0)\n"
      ],
      "execution_count": null,
      "outputs": []
    },
    {
      "cell_type": "code",
      "metadata": {
        "id": "RAiDg9D9__2c"
      },
      "source": [
        "# Salvando o dataset limpo e tratado para quaisquer eventualidade\n",
        "exp.to_csv('exp_tratado.csv', index=False)"
      ],
      "execution_count": null,
      "outputs": []
    },
    {
      "cell_type": "markdown",
      "metadata": {
        "id": "NulzK1CQ__2c"
      },
      "source": [
        "<br>**<font size='5'> Análise Exploratória dos Dados (EDA)</font>**"
      ]
    },
    {
      "cell_type": "markdown",
      "metadata": {
        "id": "xD0EZEta__2c"
      },
      "source": [
        "Nesta etapa, iremos analisar o dataset para responder aos questionamentos sobre o panorama das exportações brasileiras"
      ]
    },
    {
      "cell_type": "code",
      "metadata": {
        "id": "sES4q9EGzH-x"
      },
      "source": [
        "from google.colab import drive\n",
        "drive.mount('/content/drive')"
      ],
      "execution_count": null,
      "outputs": []
    },
    {
      "cell_type": "code",
      "metadata": {
        "id": "dWBPICpA__2d"
      },
      "source": [
        "exp = pd.read_csv('/content/drive/My Drive/exp_tratado.csv')\n",
        "exp"
      ],
      "execution_count": null,
      "outputs": []
    },
    {
      "cell_type": "code",
      "metadata": {
        "id": "BtqLrzte__2d"
      },
      "source": [
        "exp.info()"
      ],
      "execution_count": null,
      "outputs": []
    },
    {
      "cell_type": "code",
      "metadata": {
        "id": "40iAR142__2d"
      },
      "source": [
        "# Iremos direcionar a atenção ao ano corrente (2021)\n",
        "exp_2021 = exp[exp['ANO']==2021].copy()"
      ],
      "execution_count": null,
      "outputs": []
    },
    {
      "cell_type": "code",
      "metadata": {
        "id": "K1REF7Dl__2d"
      },
      "source": [
        "# O dataset possui registros atualizados até outubro de 2021\n",
        "exp_2021['MES'].unique()"
      ],
      "execution_count": null,
      "outputs": []
    },
    {
      "cell_type": "markdown",
      "metadata": {
        "id": "qYAg2Bm0__2d"
      },
      "source": [
        "**<font size='4'> 1. Quais países são os maiores compradores? </font>** <font size=\"3\"> (em termos de valor_fob) </font> "
      ]
    },
    {
      "cell_type": "code",
      "metadata": {
        "id": "zKxikcKwxUB9"
      },
      "source": [
        "paises = pd.DataFrame(exp_2021.groupby(['PAIS'])[['VALOR_FOB']].sum())\n",
        "paises"
      ],
      "execution_count": null,
      "outputs": []
    },
    {
      "cell_type": "code",
      "metadata": {
        "id": "silF3EpJ__2e"
      },
      "source": [
        "# Agrupando os dados por país\n",
        "paises = pd.DataFrame(exp_2021.groupby(['PAIS'])[['VALOR_FOB']].sum())\n",
        "\n",
        "# Calculando a participação de cada país nas exportações brasileiras\n",
        "paises['%']=paises['VALOR_FOB']/paises['VALOR_FOB'].sum()*100\n",
        "\n",
        "# Ordenando os países em ordem decrescente\n",
        "paises.sort_values(['%'],ascending=False,inplace=True)\n",
        "\n",
        "# Calculando a participação acumulada para fins de análise\n",
        "paises_acu = [32.83]\n",
        "for i in range(239):\n",
        "    paises_acu.append(paises_acu[i]+paises.iloc[i+1,1])\n",
        "paises['% ACU']=paises_acu\n",
        "\n",
        "# Formatando os valores de transação com separador de milhares\n",
        "paises['VALOR_FOB']=paises['VALOR_FOB'].apply(lambda x: \"{:_.2f}\".format(x).replace('.',',').replace('_', '.'))\n",
        "\n",
        "# Apresentando os 10 primeiros colocados\n",
        "paises.head(10)"
      ],
      "execution_count": null,
      "outputs": []
    },
    {
      "cell_type": "markdown",
      "metadata": {
        "id": "9v30pHqK__2e"
      },
      "source": [
        "Em **2021**, houve concentração em 3 países **(China, Estados Unidos e Argentina)**, que responderam por quase **metade** das exportações.\n",
        "<BR>Vale ressaltar que a **China, sozinha**, respondeu por **1/3** das exportações brasileiras. **3x** mais do que os **EUA**. "
      ]
    },
    {
      "cell_type": "code",
      "metadata": {
        "id": "HweHMejX__2e",
        "scrolled": true
      },
      "source": [
        "# Plotando os dados\n",
        "# O tamanho dos quadros é proporcional ao valor transacionado do país em questão\n",
        "\n",
        "paises['VALOR_FOB'] = paises['VALOR_FOB'].str.replace('.','').str.replace(',','').astype(float)\n",
        "fig = px.treemap(paises, path=[px.Constant('Mundo'),paises.index], values=paises['VALOR_FOB'],color_discrete_sequence=px.colors.qualitative.Set3)\n",
        "fig.update_layout(title={'text':'Participação dos países nas exportações brasileiras','y':0.95,'x':0.5})\n",
        "fig.show()"
      ],
      "execution_count": null,
      "outputs": []
    },
    {
      "cell_type": "markdown",
      "metadata": {
        "id": "FYIMhio4__2e"
      },
      "source": [
        "<br>Agora vamos conhecer a lista de compras dos TOP 3 - China, EUA e Argentina"
      ]
    },
    {
      "cell_type": "markdown",
      "metadata": {
        "id": "fQ0Sfk7p__2e"
      },
      "source": [
        "<font size='4'> 2. O que os TOP 3 mais compram do Brasil?</font>"
      ]
    },
    {
      "cell_type": "markdown",
      "metadata": {
        "id": "u4KpWuZf__2f"
      },
      "source": [
        "<font size='5'>NCM</font>     significa Nomenclatura Comum do Mercosul. Basicamente, é um código de 8 dígitos que representa uma mercadoria. \n",
        "<br> E existe uma tabela que faz a correspodência de cada NCM com a respectiva mercadoria chamada *Tabela NCM*\n",
        "<br>Por exemplo: \n",
        "<br> *0101.21.00* - Cavalos reprodutores de raça pura\n",
        "<br> *0402.21.10* - Leite integral \n",
        "<br><br>Para conhecer em mais detalhes: https://www.fazcomex.com.br/blog/tabela-ncm/"
      ]
    },
    {
      "cell_type": "code",
      "metadata": {
        "id": "41TymWmw__2f"
      },
      "source": [
        "# Lendo CSV com a tabela NCM\n",
        "ncm = pd.read_excel('/content/drive/My Drive/NCM completa x.xlsx')\n",
        "\n",
        "# Criando dicionário com o conteúdo da tabela NCM\n",
        "ncm_dict={ncm.iloc[i,0]:ncm.iloc[i,1] for i in range(ncm.shape[0])}\n",
        "ncm_dict"
      ],
      "execution_count": null,
      "outputs": []
    },
    {
      "cell_type": "markdown",
      "metadata": {
        "id": "zKhz4uaV__2f"
      },
      "source": [
        "<font size='4'> Rank 1 - China  </font>"
      ]
    },
    {
      "cell_type": "code",
      "metadata": {
        "id": "YqEeJTMa__2f"
      },
      "source": [
        "# Filtrando por país e agrupando por NCM\n",
        "chn = exp_2021[exp_2021['PAIS'].isin(['China'])].groupby(['NCM'])[['VALOR_FOB']].sum()\n",
        "\n",
        "# Calculando a participação de cada mercadoria\n",
        "chn['%']=chn['VALOR_FOB']/chn['VALOR_FOB'].sum()*100\n",
        "\n",
        "# Ordenando as mercadorias em ordem descrescente\n",
        "chn = chn.sort_values(['VALOR_FOB'], ascending=False)\n",
        "\n",
        "# Calculando a participação acumulada para fins de análise\n",
        "acu = [chn.iloc[0,1]]\n",
        "for i in range(chn.shape[0]-1):\n",
        "    acu.append(acu[i]+chn.iloc[i+1,1])\n",
        "chn['% Acu'] = acu\n",
        "\n",
        "# Acrescentando coluna com a descrição da mercadoria para cada NCM\n",
        "chn['NCM-Descrição']=chn.index.map(ncm_dict)\n",
        "\n",
        "# Resetando o index\n",
        "chn = chn.reset_index()\n",
        "\n",
        "# Formatando os valores de transação com separador de milhares\n",
        "chn['VALOR_FOB']=chn['VALOR_FOB'].apply(lambda x: \"{:_.2f}\".format(x).replace('.',',').replace('_', '.'))\n",
        "\n",
        "# Apresentando os 10 primeiros colocados\n",
        "chn.head(10)"
      ],
      "execution_count": null,
      "outputs": []
    },
    {
      "cell_type": "markdown",
      "metadata": {
        "id": "BnO00cFt__2g"
      },
      "source": [
        "As compras da China estão concentradas em: **Minério de ferro, Soja e Petróleo**.\n",
        "<br>As 3 mercadorias, isoladas, correspondem por praticamente **80%** de tudo o que a China compra do Brasil"
      ]
    },
    {
      "cell_type": "code",
      "metadata": {
        "id": "U0tijhZh__2g"
      },
      "source": [
        "# Plotando a lista de compras da China\n",
        "# O tamanho dos quadros é proporcional ao valor transacionado da mercadoria em questão\n",
        "\n",
        "chn['VALOR_FOB'] = chn['VALOR_FOB'].str.replace('.','').str.replace(',','').astype(float)\n",
        "fig = px.treemap(chn, path=['NCM-Descrição'], values=chn['VALOR_FOB'],color_discrete_sequence=px.colors.qualitative.Set3)\n",
        "fig.update_layout(title={'text':'LISTA DE COMPRAS - CHINA','y':0.925,'x':0.5})\n",
        "fig.show()"
      ],
      "execution_count": null,
      "outputs": []
    },
    {
      "cell_type": "markdown",
      "metadata": {
        "id": "pWW3U2ZJ__2g"
      },
      "source": [
        "Como já temos um exemplo do algoritmo para **gerar a lista de compra**, vamos criar uma **classe** para **automatizar** o trabalho."
      ]
    },
    {
      "cell_type": "code",
      "metadata": {
        "id": "nqfLDrXq__2g"
      },
      "source": [
        "# Definindo uma classe - lista de compras de cada país\n",
        "\n",
        "class pauta_pais:\n",
        "    \n",
        "    def __init__(self,df,ncm_dict,pais,linhas):\n",
        "        self.df = df\n",
        "        self.ncm_dict = ncm_dict\n",
        "        self.pais = pais\n",
        "        self.linhas = linhas\n",
        "\n",
        "    def lista (self): # Este método produz a lista de compras com os valores transacionados\n",
        "        \n",
        "        # Filtrando por país e agrupando por NCM\n",
        "        pauta = self.df[self.df['PAIS'].isin([self.pais])].groupby(['NCM'])[['VALOR_FOB']].sum()\n",
        "\n",
        "        # Calculando a participação de cada mercadoria\n",
        "        pauta['%']=pauta['VALOR_FOB']/pauta['VALOR_FOB'].sum()*100\n",
        "\n",
        "        # Ordenando as mercadorias em ordem descrescente\n",
        "        pauta = pauta.sort_values(['VALOR_FOB'], ascending=False)\n",
        "        \n",
        "        # Calculando a participação acumulada para fins de análise\n",
        "        acu = [pauta.iloc[0,1]]\n",
        "        for i in range(pauta.shape[0]-1):\n",
        "            acu.append(acu[i]+pauta.iloc[i+1,1])\n",
        "        pauta['% ACU'] = acu\n",
        "\n",
        "        # Acrescentando coluna com a descrição da mercadoria para cada NCM\n",
        "        pauta['DESCRIÇÃO']=pauta.index.map(self.ncm_dict)\n",
        "\n",
        "        # Resetando o index\n",
        "        pauta = pauta.reset_index()\n",
        "\n",
        "        # Alterando sequência das colunas\n",
        "        pauta = pauta[['NCM', 'DESCRIÇÃO','VALOR_FOB','%','% ACU']]\n",
        "        \n",
        "        # Formatando os valores de transação com separador de milhares\n",
        "        pauta['VALOR_FOB']=pauta['VALOR_FOB'].apply(lambda x: \"{:_.2f}\".format(x).replace('.',',').replace('_', '.'))\n",
        "        \n",
        "        # Apresentando os primeiros colocados\n",
        "        return pauta.head(self.linhas)\n",
        "    \n",
        "    \n",
        "    def tree(self): # Este método plota a lista de compras do país-parâmetro\n",
        "        \n",
        "        # Filtrando por país e agrupando por NCM\n",
        "        pauta = self.df[self.df['PAIS'].isin([self.pais])].groupby(['NCM'])[['VALOR_FOB']].sum()\n",
        "\n",
        "        # Calculando a participação de cada mercadoria\n",
        "        pauta['%']=pauta['VALOR_FOB']/pauta['VALOR_FOB'].sum()*100\n",
        "\n",
        "        # Ordenando as mercadorias em ordem descrescente\n",
        "        pauta = pauta.sort_values(['VALOR_FOB'], ascending=False)\n",
        "        \n",
        "        # Calculando a participação acumulada para fins de análise\n",
        "        acu = [pauta.iloc[0,1]]\n",
        "        for i in range(pauta.shape[0]-1):\n",
        "            acu.append(acu[i]+pauta.iloc[i+1,1])\n",
        "        pauta['% ACU'] = acu\n",
        "\n",
        "        # Acrescentando coluna com a descrição da mercadoria para cada NCM\n",
        "        pauta['DESCRIÇÃO']=pauta.index.map(self.ncm_dict)\n",
        "\n",
        "        # Resetando o index\n",
        "        pauta = pauta.reset_index()\n",
        "\n",
        "        # Alterando sequência das colunas\n",
        "        pauta = pauta[['NCM', 'DESCRIÇÃO','VALOR_FOB','%','% ACU']]\n",
        "        \n",
        "        # Plotando a lista de compras do país em questão\n",
        "        fig = px.treemap(pauta, path=['NCM'], values=pauta['%'],color_discrete_sequence=px.colors.qualitative.Set3)\n",
        "        fig.update_layout(title={'text':f'LISTA DE COMPRAS - {self.pais.upper()}','y':0.925,'x':0.5})\n",
        "        fig.show()"
      ],
      "execution_count": null,
      "outputs": []
    },
    {
      "cell_type": "markdown",
      "metadata": {
        "id": "Y6FZCkkB__2h"
      },
      "source": [
        "<font size='4'> Rank 2 - EUA </font>"
      ]
    },
    {
      "cell_type": "code",
      "metadata": {
        "id": "-JqbIgYZ__2h"
      },
      "source": [
        "# Criando uma nova instãncia da classe e informando os parâmetros necessários\n",
        "eua = pauta_pais(exp_2021, ncm_dict,'Estados Unidos',10)\n",
        "\n",
        "# Listando as compras dos EUA\n",
        "eua.lista()"
      ],
      "execution_count": null,
      "outputs": []
    },
    {
      "cell_type": "markdown",
      "metadata": {
        "id": "9wL1y8Rm__2h"
      },
      "source": [
        "Contrastando com a China, a pauta norte-americana é mais distribuída. O TOP 10 não alcança metade das compras.\n",
        "<br> Porém, o TOP 2 (**Semimanufaturados de ferro e Petróleo**) representa praticamente **1/4** das compras norte-americanas"
      ]
    },
    {
      "cell_type": "markdown",
      "metadata": {
        "id": "ZC98urTo__2h"
      },
      "source": [
        "O gráfico também evidencia uma melhor distribuição das mercadorias"
      ]
    },
    {
      "cell_type": "code",
      "metadata": {
        "id": "TwykgaRn__2n"
      },
      "source": [
        "# Plotando a lista de compras dos EUA\n",
        "# O tamanho dos quadros é proporcional ao valor transacionado\n",
        "\n",
        "eua.tree()"
      ],
      "execution_count": null,
      "outputs": []
    },
    {
      "cell_type": "markdown",
      "metadata": {
        "id": "kJZVsvC9__2n"
      },
      "source": [
        "<font size='4'> Rank 3 - Argentina (los hermanos :p) </font>"
      ]
    },
    {
      "cell_type": "code",
      "metadata": {
        "id": "D01B_nRI__2o"
      },
      "source": [
        "# Atribuindo Argentina como uma nova instãncia e informando os parâmetros necessários\n",
        "arg = pauta_pais(exp_2021, ncm_dict,'Argentina',10)\n",
        "\n",
        "# Listando as compras da Argentina\n",
        "arg.lista()"
      ],
      "execution_count": null,
      "outputs": []
    },
    {
      "cell_type": "code",
      "metadata": {
        "id": "GQ69zLw9__2o"
      },
      "source": [
        "# Plotando a lista de compras da Argentina\n",
        "# O tamanho dos quadros é proporcional ao valor transacionado\n",
        "\n",
        "arg.tree()"
      ],
      "execution_count": null,
      "outputs": []
    },
    {
      "cell_type": "markdown",
      "metadata": {
        "id": "w_w6GXL-__2o"
      },
      "source": [
        "A lista de compras da Argentina, em relação a China e EUA, não está concentrada em poucas mercadorias, o que é evidenciado no gráfico."
      ]
    },
    {
      "cell_type": "markdown",
      "metadata": {
        "id": "UJH-39ka__2o"
      },
      "source": [
        "<font size='4'> Rank 4 - Países Baixos (Holanda) </font>"
      ]
    },
    {
      "cell_type": "code",
      "metadata": {
        "id": "tcLDAJL-__2p"
      },
      "source": [
        "# Atribuindo Argentina como uma nova instãncia e informando os parâmetros necessários\n",
        "nhl = pauta_pais(exp_2021,ncm_dict, \"Países Baixos (Holanda)\", 10)\n",
        "\n",
        "# Listando as compras dos Países Baixos\n",
        "nhl.lista()"
      ],
      "execution_count": null,
      "outputs": []
    },
    {
      "cell_type": "markdown",
      "metadata": {
        "id": "WfYFBiTE__2p"
      },
      "source": [
        "Na lista de compras dos Países Baixos, percebe-se uma concentração em 5 mercadorias, que dominam **50%** das compras holandesas"
      ]
    },
    {
      "cell_type": "code",
      "metadata": {
        "id": "4cJHgnOl__2p"
      },
      "source": [
        "# Plotando a lista de compras dos Países Baixos\n",
        "# O tamanho dos quadros é proporcional ao valor transacionado\n",
        "nhl.tree()"
      ],
      "execution_count": null,
      "outputs": []
    },
    {
      "cell_type": "markdown",
      "metadata": {
        "id": "LVV6Fci1__2p"
      },
      "source": [
        "Este domínio também é evidenciado no gráfico. As **top 5** ocupam **metade** da área do gráfico. "
      ]
    },
    {
      "cell_type": "markdown",
      "metadata": {
        "id": "Hx11v5rg__2p"
      },
      "source": [
        "<font size='4'> Rank 5 - Chile </font>"
      ]
    },
    {
      "cell_type": "code",
      "metadata": {
        "id": "7D6P5RHb__2p"
      },
      "source": [
        "# Atribuindo Argentina como uma nova instãncia e informando os parâmetros necessários\n",
        "chl = pauta_pais(exp_2021,ncm_dict,'Chile',10)\n",
        "\n",
        "# Listando as compras do Chile\n",
        "chl.lista()"
      ],
      "execution_count": null,
      "outputs": []
    },
    {
      "cell_type": "markdown",
      "metadata": {
        "id": "O_PJP1YU__2q"
      },
      "source": [
        "Quase 30% do que o Chile compra do Brasil é petróleo! "
      ]
    },
    {
      "cell_type": "code",
      "metadata": {
        "id": "GU_XE7wG__2q"
      },
      "source": [
        "# Plotando a lista de compras do Chile\n",
        "# O tamanho dos quadros é proporcional ao valor transacionado\n",
        "\n",
        "chl.tree()"
      ],
      "execution_count": null,
      "outputs": []
    },
    {
      "cell_type": "markdown",
      "metadata": {
        "id": "OtkCFFdj__2q"
      },
      "source": [
        "Agora que já sabemos quem são os maiores compradores do Brasil e o que eles compram, vamos identificar quais são as mercadorias mais vendidas"
      ]
    },
    {
      "cell_type": "markdown",
      "metadata": {
        "id": "C2lScLAW__2q"
      },
      "source": [
        "**<font size='4'> 2. As mercadorias mais vendidas </font>** "
      ]
    },
    {
      "cell_type": "code",
      "metadata": {
        "id": "P6YIW1hO__2q"
      },
      "source": [
        "# Agrupando os dados de 2021 por NCM e ordenando pelo valor transacionado\n",
        "ncm_exp = exp_2021.groupby(['NCM'])[['VALOR_FOB']].sum().sort_values(['VALOR_FOB'], ascending=False)\n",
        "\n",
        "# Calculando a participação de cada mercadoria na exportação brasileira\n",
        "ncm_exp['%']=ncm_exp['VALOR_FOB']/ncm_exp['VALOR_FOB'].sum()*100\n",
        "\n",
        "# Calculando a participação acumulada das mercadorias \n",
        "acu = [ncm_exp.iloc[0,1]]\n",
        "for i in range(ncm_exp.shape[0]-1):\n",
        "    acu.append(acu[i]+ncm_exp.iloc[i+1,1])\n",
        "ncm_exp['% ACU'] = acu\n",
        "\n",
        "# Incluindo a descrição de cada mercdoria\n",
        "ncm_exp['DESCRIÇÃO'] = ncm_exp.index.map(ncm_dict)\n",
        "\n",
        "# Resetando o index\n",
        "ncm_exp.reset_index(inplace=True)\n",
        "\n",
        "# Alterando sequência das colunas\n",
        "ncm_exp = ncm_exp[['NCM','DESCRIÇÃO','VALOR_FOB','%','% ACU']]\n",
        "\n",
        "# Formatando os valores de transação com separador de milhares\n",
        "ncm_exp['VALOR_FOB']=ncm_exp['VALOR_FOB'].apply(lambda x: \"{:_.2f}\".format(x).replace('.',',').replace('_', '.'))\n",
        "\n",
        "# Apresentando as 10 mercadorias mais vendidas\n",
        "ncm_exp.head(10)"
      ],
      "execution_count": null,
      "outputs": []
    },
    {
      "cell_type": "markdown",
      "metadata": {
        "id": "aBaah3S___2r"
      },
      "source": [
        "Podemos inferir que há um predomínio de commodities, com baixo valor agregado na pauta de exportação de 2021"
      ]
    },
    {
      "cell_type": "code",
      "metadata": {
        "id": "dnpMB0ry__2r",
        "scrolled": true
      },
      "source": [
        "# Plotando a lista de compras do Chile\n",
        "# O tamanho dos quadros é proporcional ao valor transacionado\n",
        "\n",
        "fig = px.treemap(ncm_exp, path=['NCM'], values=ncm_exp['%'],color_discrete_sequence=px.colors.qualitative.Set3)\n",
        "fig.update_layout(title={'text':'Mercadorias mais vendidas pelo Brasil','y':0.925,'x':0.5})\n",
        "fig.show()"
      ],
      "execution_count": null,
      "outputs": []
    },
    {
      "cell_type": "markdown",
      "metadata": {
        "id": "OTlJvYeM__2r"
      },
      "source": [
        "<br>Agora vamos ver quem são os **maiores compradores** das principais commodities!"
      ]
    },
    {
      "cell_type": "markdown",
      "metadata": {
        "id": "6id-6Q89__2r"
      },
      "source": [
        "Para facilitar nossa análise, aproveitaremos o código da classe *pauta_pais* e criar uma nova classe *ncm_pais*.<br> Esta classe irá listar os países importadores da mercadoria sob análise"
      ]
    },
    {
      "cell_type": "code",
      "metadata": {
        "id": "2Pl_W4cD__2r"
      },
      "source": [
        "# Criando a classe\n",
        "class ncm_pais:\n",
        "    \n",
        "    def __init__(self,df,ncm,descricao,linhas):\n",
        "        self.df = df\n",
        "        self.ncm_dict = ncm_dict\n",
        "        self.ncm = ncm\n",
        "        self.linhas = linhas\n",
        "        self.descricao = descricao\n",
        "\n",
        "    def lista (self):\n",
        "        \n",
        "        # Filtrando por país e agrupando por NCM\n",
        "        df = self.df[self.df['NCM'].isin([self.ncm])].groupby(['PAIS'])[['VALOR_FOB']].sum()\n",
        "\n",
        "        # Calculando a participação de cada mercadoria\n",
        "        df['%']=df['VALOR_FOB']/df['VALOR_FOB'].sum()*100\n",
        "\n",
        "        # Ordenando as mercadorias em ordem descrescente\n",
        "        df = df.sort_values(['VALOR_FOB'], ascending=False)\n",
        "        \n",
        "        # Calculando a participação acumulada para fins de análise\n",
        "        acu = [df.iloc[0,1]]\n",
        "        for i in range(df.shape[0]-1):\n",
        "            acu.append(acu[i]+df.iloc[i+1,1])\n",
        "        df['% ACU'] = acu\n",
        "\n",
        "        # Resetando o index\n",
        "        df = df.reset_index()\n",
        "        \n",
        "         # Alterando sequência das colunas\n",
        "        df = df[['PAIS','VALOR_FOB','%','% ACU']]\n",
        "        \n",
        "        # Formatando os valores de transação com separador de milhares\n",
        "        df['VALOR_FOB']=df['VALOR_FOB'].apply(lambda x: \"{:_.2f}\".format(x).replace('.',',').replace('_', '.'))\n",
        "\n",
        "        # Apresentando os n primeiros colocados\n",
        "        return df.head(self.linhas)\n",
        "    \n",
        "    \n",
        "    def tree(self):\n",
        "        \n",
        "        # Filtrando por país e agrupando por NCM\n",
        "        df = self.df[self.df['NCM'].isin([self.ncm])].groupby(['PAIS'])[['VALOR_FOB']].sum()\n",
        "\n",
        "        # Calculando a participação de cada mercadoria\n",
        "        df['%']=df['VALOR_FOB']/df['VALOR_FOB'].sum()*100\n",
        "\n",
        "        # Ordenando as mercadorias em ordem descrescente\n",
        "        df = df.sort_values(['VALOR_FOB'], ascending=False)\n",
        "        \n",
        "        # Calculando a participação acumulada para fins de análise\n",
        "        acu = [df.iloc[0,1]]\n",
        "        for i in range(df.shape[0]-1):\n",
        "            acu.append(acu[i]+df.iloc[i+1,1])\n",
        "        df['% ACU'] = acu\n",
        "\n",
        "        # Resetando o index\n",
        "        df = df.reset_index()\n",
        "\n",
        "        # Alterando sequência das colunas\n",
        "        df = df[['PAIS','VALOR_FOB','%','% ACU']]\n",
        "        \n",
        "        # Plotando a participação de cada país nas exportações da mercadoria em questão\n",
        "        fig = px.treemap(df, path=['PAIS'], values=df['%'],color_discrete_sequence=px.colors.qualitative.Set3)\n",
        "        fig.update_layout(title={'text':f'O QUANTO CADA PAÍS COMPROU DE {self.descricao.upper()}','y':0.925,'x':0.5})\n",
        "        fig.show()\n"
      ],
      "execution_count": null,
      "outputs": []
    },
    {
      "cell_type": "markdown",
      "metadata": {
        "id": "N6Vivynh__2s"
      },
      "source": [
        "<font size='4'> Rank 1 - Minério de ferro </font>"
      ]
    },
    {
      "cell_type": "code",
      "metadata": {
        "id": "Fu4OlLTT__2s"
      },
      "source": [
        "# Criando uma nova instância e informando os parâmetros necessários\n",
        "ferro = ncm_pais(exp_2021,26011100,'Minério de ferro',10)\n",
        "\n",
        "# Listando os maiores países compradores de minério de ferro\n",
        "ferro.lista()"
      ],
      "execution_count": null,
      "outputs": []
    },
    {
      "cell_type": "markdown",
      "metadata": {
        "id": "LRoTH_dL__2s"
      },
      "source": [
        "O maior comprador do minério de ferro brasileiro até outubro de 2021 é, sem grande surpresa, a **China**. Ela comprou **70%** de todo o minério de ferro exportado. "
      ]
    },
    {
      "cell_type": "code",
      "metadata": {
        "id": "1iQiXtp2__2s"
      },
      "source": [
        "# Plotando a  participação de cada país na exportação de minério de ferro\n",
        "# O tamanho dos quadros é proporcional ao valor transacionado\n",
        "ferro.tree()"
      ],
      "execution_count": null,
      "outputs": []
    },
    {
      "cell_type": "markdown",
      "metadata": {
        "id": "FbdrbjmF__2s"
      },
      "source": [
        "Visualmente, podemos ver o peso da China na exportação de minério de ferro. "
      ]
    },
    {
      "cell_type": "markdown",
      "metadata": {
        "id": "5N1gZy63__2s"
      },
      "source": [
        "<font size='4'> Rank 2 - Soja </font>"
      ]
    },
    {
      "cell_type": "code",
      "metadata": {
        "id": "F0H_FT1e__2t"
      },
      "source": [
        "# Criando uma nova instância e informando os parâmetros necessários\n",
        "soja = ncm_pais(exp_2021,12019000,'Soja',10)\n",
        "\n",
        "# Listando os maiores países compradores de soja\n",
        "soja.lista()"
      ],
      "execution_count": null,
      "outputs": []
    },
    {
      "cell_type": "markdown",
      "metadata": {
        "id": "NOgS8Hj6__2t"
      },
      "source": [
        "O mesmo acontece com a soja. A **China**, um único país dentre os 244 analisados, comprou praticamente **70%** da soja exportada pelo Brasil"
      ]
    },
    {
      "cell_type": "code",
      "metadata": {
        "id": "dJvCf-jE__2t"
      },
      "source": [
        "# Plotando a  participação de cada país na exportação de minério de ferro\n",
        "# O tamanho dos quadros é proporcional ao valor transacionado\n",
        "soja.tree()"
      ],
      "execution_count": null,
      "outputs": []
    },
    {
      "cell_type": "markdown",
      "metadata": {
        "id": "Bui2lItM__2t"
      },
      "source": [
        "<font size='4'> Rank 3 - Petróleo </font>"
      ]
    },
    {
      "cell_type": "code",
      "metadata": {
        "id": "Y1h4S6WJ__2t"
      },
      "source": [
        "# Criando uma nova instância e informando os parâmetros necessários\n",
        "petroleo = ncm_pais(exp_2021,27090010,'Petróleo',10)\n",
        "\n",
        "# Listando os maiores países compradores de petróleo\n",
        "petroleo.lista()"
      ],
      "execution_count": null,
      "outputs": []
    },
    {
      "cell_type": "markdown",
      "metadata": {
        "id": "4FVd8EFr__2u"
      },
      "source": [
        "Com o petróleo, a China ocupa novamente o topo. Mas *maneirou* no apetite. Importou *apenas* **quase a metade** do petróleo exportado pelo Brasil. <br> O segundo maior comprador, **EUA**, comprou menos de **1/4** do que a China comprou."
      ]
    },
    {
      "cell_type": "code",
      "metadata": {
        "id": "DWEzdyjL__2u"
      },
      "source": [
        "# Plotando a  participação de cada país na exportação de minério de ferro\n",
        "# O tamanho dos quadros é proporcional ao valor transacionado\n",
        "petroleo.tree()"
      ],
      "execution_count": null,
      "outputs": []
    },
    {
      "cell_type": "markdown",
      "metadata": {
        "id": "QnJfmreP__2u"
      },
      "source": [
        "**<font size=\"4.5\"> Evolução das exportações brasileiras | 2010 - 2021 </font>**"
      ]
    },
    {
      "cell_type": "markdown",
      "metadata": {
        "id": "GUqZvVyL__2u"
      },
      "source": [
        "**<font size=\"4\"> Maiores compradores do Brasil </font>**"
      ]
    },
    {
      "cell_type": "code",
      "metadata": {
        "id": "GQ122QIa__2u",
        "scrolled": false
      },
      "source": [
        "# Agrupando o dataset por ano e país \n",
        "exp_anual = exp.groupby(['ANO','PAIS'])[['VALOR_FOB']].sum().reset_index()\n",
        "\n",
        "# Criando uma lista com os 5 maiores compradores de cada ano\n",
        "lista_paises =[]\n",
        "for i in exp_anual.ANO.unique():\n",
        "     for j in range(5):\n",
        "        lista_paises.append(exp_anual[exp_anual['ANO']==i].sort_values(['VALOR_FOB'], ascending=False).iloc[j,1])\n",
        "\n",
        "# Criando um dataframe com os 5 maiores compradores de cada ano\n",
        "rank_paises = pd.DataFrame()\n",
        "count=0\n",
        "for ano in exp_anual.ANO.unique():\n",
        "    rank_paises[ano] = lista_paises[count:count+5]\n",
        "    count+=5\n",
        "    \n",
        "# Apresentando o dataframe\n",
        "rank_paises = rank_paises.T\n",
        "rank_paises.columns = ['Rank 1','Rank 2','Rank 3','Rank 4','Rank 5'] \n",
        "rank_paises"
      ],
      "execution_count": null,
      "outputs": []
    },
    {
      "cell_type": "markdown",
      "metadata": {
        "id": "PNFvfC2p__2u"
      },
      "source": [
        "Nos últimos 11 anos, **China, EUA, Argentina e Países Baixos** dominam os primeiros lugares. E no 5o lugar, há uma alternância entre Alemanha, Japão, Chile e Canadá. \n",
        "<br> E quanto os Top 5 transacionaram neste período?"
      ]
    },
    {
      "cell_type": "code",
      "metadata": {
        "id": "WlD_aLaQ__2v",
        "scrolled": true
      },
      "source": [
        "# Cruzando os dados das colunas PAIS e ANO\n",
        "evol_paises = pd.crosstab(exp['PAIS'],exp['ANO'],values=exp['VALOR_FOB'],aggfunc=np.sum).T\n",
        "\n",
        "# Selecionando os países em análise\n",
        "evol_paises = evol_paises[['China','Estados Unidos','Argentina','Países Baixos (Holanda)','Alemanha','Japão','Chile','Canadá']]\n",
        "\n",
        "# Formatando os valores transacionados \n",
        "for ano in evol_paises.columns:\n",
        "    a[ano]=  a[ano].apply(lambda x: \"{:_.2f}\".format(x).replace('.',',').replace('_', '.'))\n",
        "\n",
        "#  Apresentando os dados\n",
        "evol_paises"
      ],
      "execution_count": null,
      "outputs": []
    },
    {
      "cell_type": "markdown",
      "metadata": {
        "id": "WjGCOIxl__2v"
      },
      "source": [
        "O mais interessante é a **China**, além de permanecer em primeiro lugar, o volume de **compras** mais que **dobrou**. Enquanto que os demais países, as compras ou permaneceram estáveis ou houve um decréscimo. "
      ]
    },
    {
      "cell_type": "code",
      "metadata": {
        "id": "DA6jEVot__2v"
      },
      "source": [
        "# Criando lista com os países de interesse\n",
        "paises = ['China','Estados Unidos','Argentina','Países Baixos (Holanda)','Alemanha','Japão','Chile','Canadá']\n",
        "\n",
        "# Filtrando por países de interesse\n",
        "line = exp[exp['PAIS'].isin(paises)]\n",
        "\n",
        "# Agrupando o dataframe por ano e país\n",
        "line = line.groupby(['ANO','PAIS'],as_index=False)[['VALOR_FOB']].sum()\n",
        "\n",
        "# Plotando a evolução das compras dos países de interesse\n",
        "fig = px.line(line, x=\"ANO\", y=\"VALOR_FOB\", color='PAIS',color_discrete_sequence=px.colors.qualitative.Set3)\n",
        "fig.update_layout(title={'text':'EVOLUÇÃO - 2010 a 2021','y':0.925,'x':0.3})\n",
        "fig.show()"
      ],
      "execution_count": null,
      "outputs": []
    },
    {
      "cell_type": "markdown",
      "metadata": {
        "id": "IbLJhVqE__2v"
      },
      "source": [
        "O gráfico acima evidencia ainda mais o crescimento espantoso da China!"
      ]
    },
    {
      "cell_type": "code",
      "metadata": {
        "id": "-juDitg6ah74"
      },
      "source": [
        "fig = px.line(af.groupby(['ANO'])[['VALOR_FOB']].sum())\n",
        "fig.show()"
      ],
      "execution_count": null,
      "outputs": []
    },
    {
      "cell_type": "markdown",
      "metadata": {
        "id": "KoFLyISD__2v"
      },
      "source": [
        "**<font size=\"4\"> As mercadorias mais vendidas </font>**"
      ]
    },
    {
      "cell_type": "code",
      "metadata": {
        "id": "p0Qb_x-O__2v"
      },
      "source": [
        "# Agrupando o dataset por ano e ncm\n",
        "exp_anual = exp.groupby(['ANO','NCM'])[['VALOR_FOB']].sum().reset_index()\n",
        "\n",
        "# Criando uma lista com as 5 mercadorias mais vendidas em cada ano\n",
        "lista_ncm =[]\n",
        "for i in exp_anual.ANO.unique():\n",
        "     for j in range(5):\n",
        "        lista_ncm.append(exp_anual[exp_anual['ANO']==i].sort_values(['VALOR_FOB'], ascending=False).iloc[j,1])\n",
        "\n",
        "# Armazenando a lista em um dataframe\n",
        "rank_ncm = pd.DataFrame()\n",
        "count=0\n",
        "for ano in exp_anual.ANO.unique():\n",
        "    rank_ncm[ano] = lista_ncm[count:count+5]\n",
        "    count+=5\n",
        "    \n",
        "# Apresentando o dataframe\n",
        "rank_ncm = rank_ncm.T\n",
        "rank_ncm.columns = ['Rank 1','Rank 2','Rank 3','Rank 4','Rank 5'] \n",
        "rank_ncm"
      ],
      "execution_count": null,
      "outputs": []
    },
    {
      "cell_type": "markdown",
      "metadata": {
        "id": "e4h4Z80E__2w"
      },
      "source": [
        "Nada intituitivo a tabela acima certo? Vamos fazer a substituição do NCM pela respectiva mercadoria"
      ]
    },
    {
      "cell_type": "code",
      "metadata": {
        "id": "kbwOd-yO__2w"
      },
      "source": [
        "# Criando uma lista excluindo os NCMs repetidos\n",
        "unique_ncm =[]\n",
        "for ncm in lista_ncm:\n",
        "    if ncm not in unique_ncm:\n",
        "        unique_ncm.append(ncm)\n",
        "        \n",
        "# Colocando os NCM'S em um dataframe e incluindo a respectiva descrição\n",
        "df_ncm = pd.DataFrame(lista_unica, columns=['NCM'])\n",
        "df_ncm['DESCRIÇÃO'] = df_ncm.NCM.map(ncm_dict)\n",
        "df_ncm"
      ],
      "execution_count": null,
      "outputs": []
    },
    {
      "cell_type": "code",
      "metadata": {
        "id": "z4y6XxCk__2w"
      },
      "source": [
        "# Incluir uma descrição simplificada das mercadorias\n",
        "descr_simp = ['Minério ferro ñ aglomerado','Petróleo bruto','Outros grãos de soja','Açúcar de cana','Minério ferro aglomerado','Soja','Outros açúcares de cana','Bagaço da soja','Café em grão','Madeira (Pasta química)', 'Milho em grão','Carne bovina desossada']\n",
        "df_ncm['DESCRIÇÃO SIMPLIFICADA']=descr_simp\n",
        "\n",
        "# Criando dicionário relacionando os NCM's com a respectiva descrição simplificada\n",
        "dict_ncm_simp = {df_ncm.iloc[i,0]:df_ncm.iloc[i,2] for i in range(12)}\n",
        "\n",
        "# Substituindo os ncms pela respectiva descrição simplificada\n",
        "for column in rank_ncm.columns:\n",
        "    rank_ncm[column]=rank_ncm[column].map(dict_ncm_simp)\n",
        "rank_ncm"
      ],
      "execution_count": null,
      "outputs": []
    },
    {
      "cell_type": "markdown",
      "metadata": {
        "id": "fcuiz6aZ__2w"
      },
      "source": [
        "Pronto! Agora ficou mais fácil de analisar. <br>\n",
        "**Minério de ferro (ñ agloremado) e Soja** alternam o posto de **mercadoria mais vendida** pelo Brasil desde o ínicio do período analisado. Ou seja, **11 anos**. <br>\n",
        "Em **2o**, o posto é compartilhado pelo **minério de ferro, soja e petróleo**. \n",
        "Vale ressaltar que o ranking acima evidencia novamente a **predominância de commodities** na pauta de exportação brasileira.\n"
      ]
    },
    {
      "cell_type": "code",
      "metadata": {
        "id": "Hc37nmqI__2w"
      },
      "source": [
        "# Criando um dataset apenas com as mercadorias mais exportadas no período\n",
        "line = exp[exp['NCM'].isin(lista_unica)]\n",
        "\n",
        "# Agrupando por ANO e NCM\n",
        "line = line.groupby(['ANO','NCM'],as_index=False)[['VALOR_FOB']].sum()\n",
        "\n",
        "# Incluindo a descrição simplificada \n",
        "line['DESCRIÇÃO SIMPLIFICADA'] = line['NCM'].map(dict_ncm12)\n",
        "\n",
        "# Plotando os dados\n",
        "fig = px.line(line, x=\"ANO\", y=\"VALOR_FOB\", color='DESCRIÇÃO SIMPLIFICADA',color_discrete_sequence=px.colors.qualitative.Set3)\n",
        "fig.update_layout(title={'text':'EVOLUÇÃO - 2010 a 2021','y':0.925,'x':0.3})\n",
        "fig.show()"
      ],
      "execution_count": null,
      "outputs": []
    },
    {
      "cell_type": "code",
      "metadata": {
        "id": "qP3FZ-G0__2x"
      },
      "source": [
        "af = exp.groupby(['NCM','PAIS','ANO'], as_index=False)[['VALOR_FOB']].sum()\n",
        "af['NCM']= af['NCM'].astype(str)\n",
        "af['NCM_2'] = af['NCM'].str[:2]\n",
        "af = af.groupby(['NCM_2','PAIS','ANO'], as_index=False)[['VALOR_FOB']].sum()\n",
        "af"
      ],
      "execution_count": null,
      "outputs": []
    },
    {
      "cell_type": "code",
      "metadata": {
        "id": "yUslFOdpWs6W"
      },
      "source": [
        "ncm_cap.info()"
      ],
      "execution_count": null,
      "outputs": []
    },
    {
      "cell_type": "code",
      "metadata": {
        "id": "k0ncd9d3UAHe"
      },
      "source": [
        "ncm_cap = pd.read_csv('/content/drive/My Drive/cap ncm8.csv',sep=';')\n",
        "ncm_cap['Cap']=ncm_cap['Cap'].astype(str)\n",
        "ncmcap_dict = {ncm_cap.iloc[i,0]:ncm_cap.iloc[i,1] for i in range(ncm_cap.shape[0])}\n",
        "ncmcap_dict"
      ],
      "execution_count": null,
      "outputs": []
    },
    {
      "cell_type": "code",
      "metadata": {
        "id": "taUm9lLrVjck"
      },
      "source": [
        "af['DESCRIÇÃO CAP']=af['NCM_2'].map(ncmcap_dict)\n",
        "af"
      ],
      "execution_count": null,
      "outputs": []
    },
    {
      "cell_type": "code",
      "metadata": {
        "id": "cJx1U15eDkx6"
      },
      "source": [
        "fig = px.treemap(af,path=['ANO','DESCRIÇÃO CAP','PAIS'], values='VALOR_FOB')\n",
        "fig.show()"
      ],
      "execution_count": null,
      "outputs": []
    },
    {
      "cell_type": "markdown",
      "metadata": {
        "id": "dAxXG0tR__2x"
      },
      "source": [
        "<font size='4'> Modais </font>"
      ]
    },
    {
      "cell_type": "code",
      "metadata": {
        "id": "e4fpjdHy__2x"
      },
      "source": [
        "exp_2021.columns"
      ],
      "execution_count": null,
      "outputs": []
    },
    {
      "cell_type": "code",
      "metadata": {
        "id": "gUy7qSRk__2x"
      },
      "source": [
        "# Modais mais utilizado na exportação\n",
        "# Top 3 - representam 99% da pauta de exportação\n",
        "# Top 1 - o modal marítimo representa 88%!\n",
        "modal=exp_2021.groupby(['MODAL'])[['VALOR_FOB']].sum().sort_values(['VALOR_FOB'], ascending=False)\n",
        "modal['%']=modal.VALOR_FOB/modal.VALOR_FOB.sum()*100\n",
        "modal.reset_index(inplace=True)\n",
        "ac = [modal.iloc[0,2]]\n",
        "for i in range(modal.shape[0]-1):\n",
        "    ac.append(ac[i]+modal.iloc[i+1,2])\n",
        "modal['% Acu'] = ac\n",
        "modal"
      ],
      "execution_count": null,
      "outputs": []
    },
    {
      "cell_type": "code",
      "metadata": {
        "id": "j-S0Hbqd__2y"
      },
      "source": [
        "modalxpaises = pd.crosstab(exp_2021['PAIS'], exp_2021['MODAL'],values=exp_2021['VALOR_FOB'], aggfunc=np.sum)\n",
        "modalxpaises.sort_values(['AEREA'],ascending=False).head(10)"
      ],
      "execution_count": null,
      "outputs": []
    }
  ]
}